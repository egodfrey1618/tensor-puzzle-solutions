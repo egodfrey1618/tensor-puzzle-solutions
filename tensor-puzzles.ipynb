{
 "cells": [
  {
   "cell_type": "markdown",
   "id": "abe0a90e",
   "metadata": {},
   "source": [
    "# Tensor Puzzles\n",
    "See https://github.com/srush/Tensor-Puzzles. The idea of these is that all we have access to for creating arrays is `arange` and `where`, plus arithmetic/comparison, and have to use broadcasting and other tricks to recreate a bunch of numpy functions. We're supposed to do all of these in one-liners."
   ]
  },
  {
   "cell_type": "code",
   "execution_count": 1,
   "id": "039f4135",
   "metadata": {},
   "outputs": [],
   "source": [
    "import numpy as np"
   ]
  },
  {
   "cell_type": "code",
   "execution_count": 2,
   "id": "2ba05412",
   "metadata": {},
   "outputs": [
    {
     "data": {
      "text/plain": [
       "array([1, 1, 1, 1, 1, 1, 1, 1, 1, 1])"
      ]
     },
     "execution_count": 2,
     "metadata": {},
     "output_type": "execute_result"
    }
   ],
   "source": [
    "# Puzzle 1: ones.\n",
    "# Explanation: The np.arange(n) is just used to force broadcasting to an array of shape (n,).\n",
    "# Then 0 always evaluates to false, so we pick the second argument.\n",
    "def ones(n):\n",
    "    return np.where(0, np.arange(n), 1)\n",
    "ones(10)"
   ]
  },
  {
   "cell_type": "code",
   "execution_count": 3,
   "id": "cfc2a21f",
   "metadata": {},
   "outputs": [
    {
     "data": {
      "text/plain": [
       "4950"
      ]
     },
     "execution_count": 3,
     "metadata": {},
     "output_type": "execute_result"
    }
   ],
   "source": [
    "# Puzzle 2: sum. \n",
    "# Explanation: \n",
    "# We're taking the dot-product of the vector with (1,1,1,1,1...,1), which gives the sum.\n",
    "def sum(n):\n",
    "    return n @ ones(n.shape[0])\n",
    "assert sum(ones(10)) == sum(np.array([1, 2, 3, 4]))\n",
    "assert sum(ones(10)) == 10\n",
    "sum(np.arange(100))"
   ]
  },
  {
   "cell_type": "code",
   "execution_count": 4,
   "id": "391eba4c",
   "metadata": {},
   "outputs": [
    {
     "data": {
      "text/plain": [
       "array([[0, 0, 0, 0],\n",
       "       [0, 1, 2, 3],\n",
       "       [0, 2, 4, 6]])"
      ]
     },
     "execution_count": 4,
     "metadata": {},
     "output_type": "execute_result"
    }
   ],
   "source": [
    "# Puzzle 3: outer\n",
    "# Explanation: Suppose a, b have shapes (i,) and (j,)\n",
    "# a[:, None] has shape (i, 1).\n",
    "# So when we multiply an (i,1) and a (j,), it gets broadcast to an array with shape (i, j).\n",
    "def outer(a, b):\n",
    "    return a[:, None] * b\n",
    "outer(np.arange(3), np.arange(4))"
   ]
  },
  {
   "cell_type": "code",
   "execution_count": 5,
   "id": "039b9905",
   "metadata": {},
   "outputs": [
    {
     "data": {
      "text/plain": [
       "array([0, 1, 2, 3, 4, 5, 6, 7, 8, 9])"
      ]
     },
     "execution_count": 5,
     "metadata": {},
     "output_type": "execute_result"
    }
   ],
   "source": [
    "# Puzzle 4: diag\n",
    "# Explanation: This uses advanced indexing - it's the multidimensional index array case for integer indexing\n",
    "# If we have:\n",
    "# - An ndarray M, with shape (x_1, ..., x_n)\n",
    "# - n ndarrays K_i, of the same shape (or broadcastable to the same shape)\n",
    "# - Then M[K_1, ..., K_n] has the same shape as the K_i's, and each element is the corresponding indexed element of M\n",
    "#\n",
    "# So M[np.arange(N), np.arange(N)] has shape (N,), where element i is M[i][i]. Which is the diagonal index.\n",
    "def diag(M):\n",
    "    return M[np.arange(M.shape[0]), np.arange(M.shape[0])]\n",
    "M = np.array([np.arange(10) for _ in range(10)])\n",
    "diag(M)"
   ]
  },
  {
   "cell_type": "code",
   "execution_count": 6,
   "id": "73e58721",
   "metadata": {},
   "outputs": [
    {
     "data": {
      "text/plain": [
       "array([[1, 0, 0, 0, 0, 0, 0, 0, 0, 0],\n",
       "       [0, 1, 0, 0, 0, 0, 0, 0, 0, 0],\n",
       "       [0, 0, 1, 0, 0, 0, 0, 0, 0, 0],\n",
       "       [0, 0, 0, 1, 0, 0, 0, 0, 0, 0],\n",
       "       [0, 0, 0, 0, 1, 0, 0, 0, 0, 0],\n",
       "       [0, 0, 0, 0, 0, 1, 0, 0, 0, 0],\n",
       "       [0, 0, 0, 0, 0, 0, 1, 0, 0, 0],\n",
       "       [0, 0, 0, 0, 0, 0, 0, 1, 0, 0],\n",
       "       [0, 0, 0, 0, 0, 0, 0, 0, 1, 0],\n",
       "       [0, 0, 0, 0, 0, 0, 0, 0, 0, 1]])"
      ]
     },
     "execution_count": 6,
     "metadata": {},
     "output_type": "execute_result"
    }
   ],
   "source": [
    "# Puzzle 5: eye\n",
    "# Explanation: \n",
    "# LHS of the boolean condition is an array of shape (n, 1)\n",
    "# RHS of the boolean condition is an array of shape (n,)\n",
    "# So (LHS == RHS)_{ij} = (LHS_i == RHS_j), which gives us the identity matrix. \n",
    "def eye(N):\n",
    "    return np.where(np.arange(N)[:, None] == np.arange(N), 1, 0)\n",
    "eye(10)"
   ]
  },
  {
   "cell_type": "code",
   "execution_count": 7,
   "id": "5dfb2854",
   "metadata": {},
   "outputs": [
    {
     "data": {
      "text/plain": [
       "array([[1, 1, 1, 1, 1, 1, 1, 1, 1, 1],\n",
       "       [0, 1, 1, 1, 1, 1, 1, 1, 1, 1],\n",
       "       [0, 0, 1, 1, 1, 1, 1, 1, 1, 1],\n",
       "       [0, 0, 0, 1, 1, 1, 1, 1, 1, 1],\n",
       "       [0, 0, 0, 0, 1, 1, 1, 1, 1, 1],\n",
       "       [0, 0, 0, 0, 0, 1, 1, 1, 1, 1],\n",
       "       [0, 0, 0, 0, 0, 0, 1, 1, 1, 1],\n",
       "       [0, 0, 0, 0, 0, 0, 0, 1, 1, 1],\n",
       "       [0, 0, 0, 0, 0, 0, 0, 0, 1, 1],\n",
       "       [0, 0, 0, 0, 0, 0, 0, 0, 0, 1]])"
      ]
     },
     "execution_count": 7,
     "metadata": {},
     "output_type": "execute_result"
    }
   ],
   "source": [
    "# Puzzle 6: triu\n",
    "# Similar to above, we have:\n",
    "# (LHR == RHS)_{ij} = (LHS_i <= RHS_j), which gives us the upper triangular matrix.\n",
    "def triu(N):\n",
    "    return np.where(np.arange(N)[:, None] <= np.arange(N), 1, 0)\n",
    "triu(10)"
   ]
  },
  {
   "cell_type": "code",
   "execution_count": 8,
   "id": "33b1a22b",
   "metadata": {},
   "outputs": [
    {
     "data": {
      "text/plain": [
       "array([ 0,  1,  3,  6, 10, 15, 21, 28, 36, 45])"
      ]
     },
     "execution_count": 8,
     "metadata": {},
     "output_type": "execute_result"
    }
   ],
   "source": [
    "# Puzzle 7: cumsum.\n",
    "# This works, but feels inefficient - I'm doing a pairwise multiplication and a matrix*vector, which are both O(n^2).\n",
    "# \n",
    "# Explanation: \n",
    "# (triu(N).T)_{ij} = (1 if i >= j else 0). I.e. lower triangular matrix.\n",
    "# x is of shape (n,), so it's going to get broadcast out to shape (n,n) when we multiply. So\n",
    "# (triu(N).T * x)_{ij} = (x_j if i >= j else 0).\n",
    "#\n",
    "# Then taking the matrix product of this and the ones vector:\n",
    "# (output_i) = \\sum_j (x_j if i >= j else 0), which is the cumulative sum.\n",
    "def cumsum(x):\n",
    "    return triu(x.shape[0]).T * x @ ones(x.shape[0])\n",
    "cumsum(np.arange(10))"
   ]
  },
  {
   "cell_type": "code",
   "execution_count": 9,
   "id": "e8b6396b",
   "metadata": {},
   "outputs": [
    {
     "data": {
      "text/plain": [
       "array([3, 1, 1, 1, 1, 1, 1])"
      ]
     },
     "execution_count": 9,
     "metadata": {},
     "output_type": "execute_result"
    }
   ],
   "source": [
    "# Puzzle 8: diff\n",
    "# Explanation: diff is a linear function of the input.\n",
    "# I'm multiplying by the matrix which has 1s down the diagonal, and -1s on the \"off-diagonal\".\n",
    "# So X_{ij} = 1 if i == j, else -1 if i == j + 1, else 0.\n",
    "def diff(m):\n",
    "    N = m.shape[0]; return (eye(N) - (np.arange(N)[:, None] - np.arange(N) == 1)) @ m\n",
    "diff(np.arange(3,10))"
   ]
  },
  {
   "cell_type": "code",
   "execution_count": 10,
   "id": "122b5d92",
   "metadata": {},
   "outputs": [
    {
     "data": {
      "text/plain": [
       "array([[3, 4, 5, 6, 7, 8, 9],\n",
       "       [0, 1, 2, 3, 4, 5, 6]])"
      ]
     },
     "execution_count": 10,
     "metadata": {},
     "output_type": "execute_result"
    }
   ],
   "source": [
    "# Puzzle 9: vstack\n",
    "# Explanation:\n",
    "# X is the matrix [[1,1], [0,0]], so 1-X is the matrix [[0,0], [1,1]].\n",
    "# Then pairwise multiplying the first by m (using broadcasting in first axis) is [[m_0, m_1], [0,0]], and similarly for n\n",
    "# So adding these gives the vstack result.\n",
    "def vstack(m, n): \n",
    "    X = (np.arange(2) == 0)[:, None]; return m * X + n * (1-X)\n",
    "vstack(np.arange(3, 10), np.arange(7))"
   ]
  },
  {
   "cell_type": "code",
   "execution_count": 11,
   "id": "6d1a19e8",
   "metadata": {},
   "outputs": [
    {
     "data": {
      "text/plain": [
       "array([2, 3, 4, 5, 1])"
      ]
     },
     "execution_count": 11,
     "metadata": {},
     "output_type": "execute_result"
    }
   ],
   "source": [
    "# Puzzle 10: roll\n",
    "# Explanation: roll is a linear function of the input, so I'm just expressing this with the linear map.\n",
    "# X is the matrix e.g. [[0, 1, 0], [0, 0, 1], [1, 0, 0]], so \"off-by-one\" from an identity matrix.\n",
    "def roll(x): \n",
    "    N = x.shape[0]; X = (np.arange(N)[:, None] - np.arange(N)) % N == N-1; return X @ x\n",
    "roll(np.arange(1, 6))"
   ]
  },
  {
   "cell_type": "code",
   "execution_count": 12,
   "id": "d4b7c311",
   "metadata": {},
   "outputs": [
    {
     "data": {
      "text/plain": [
       "array([5, 4, 3, 2, 1])"
      ]
     },
     "execution_count": 12,
     "metadata": {},
     "output_type": "execute_result"
    }
   ],
   "source": [
    "# Puzzle 11: flip\n",
    "# Very similar principle to above - this is a linear function. \n",
    "def flip(x): \n",
    "    N = x.shape[0]; X = (np.arange(N)[:, None] + np.arange(N)) == N-1; return X @ x\n",
    "flip(np.arange(1, 6))"
   ]
  },
  {
   "cell_type": "code",
   "execution_count": 13,
   "id": "3aecf62e",
   "metadata": {},
   "outputs": [
    {
     "data": {
      "text/plain": [
       "array([2, 4])"
      ]
     },
     "execution_count": 13,
     "metadata": {},
     "output_type": "execute_result"
    }
   ],
   "source": [
    "# Puzzle 12: compress \n",
    "# Explanation: I don't understand what's different about this to Boolean indexing. Maybe this is cheating?\n",
    "# https://stackoverflow.com/questions/44487889/why-is-np-compress-faster-than-boolean-indexing suggests they are equivalent.\n",
    "# But np.compress is a little faster (it's more specific, which skips some of the numpy foo).\n",
    "def compress(b, v):\n",
    "    return v[b]\n",
    "compress(np.array([False, True, False, True]), np.array([1,2,3,4]))"
   ]
  },
  {
   "cell_type": "code",
   "execution_count": 14,
   "id": "99ba3f1f",
   "metadata": {},
   "outputs": [
    {
     "name": "stdout",
     "output_type": "stream",
     "text": [
      "[0 1 2 3 4 0 0 0]\n",
      "[0 1 2 3]\n"
     ]
    }
   ],
   "source": [
    "# Puzzle 13: pad_to. \n",
    "# Explanation: We're going to use integer indexing. To do this, I need a way to pick 0 if I'm padding.\n",
    "# We'll use vstack for this, just as a way to get an array with some 0s in.\n",
    "#\n",
    "# Then:\n",
    "# A is going to be of length M, len(v) 0s followed by M - len(v) 1s. We can do this with a boolean condition, and then add 0 to cast to an int.\n",
    "# B is going to be 0, 1, 2, ..., len(v)-1, and then the later indices don't matter but must be less than len(v). I took a modulus.\n",
    "# X is vstack(v, 0).\n",
    "#\n",
    "# Then X[A, B] consists of min(M, len(v)) elements from v, followed by indices from the bottom row, which are always zero.\n",
    "#\n",
    "# I'm using the fact that my vstack works with scalars too - if not I'd need to pass in a 0 vector of the right length.\n",
    "def pad_to(v, M):\n",
    "    X = vstack(v, 0); N = len(v); A = (np.arange(M) >= N) + 0; B = np.arange(M) % N; return X[A, B]\n",
    "print(pad_to(np.arange(5), 8))\n",
    "print(pad_to(np.arange(5), 4))"
   ]
  },
  {
   "cell_type": "code",
   "execution_count": 15,
   "id": "490f7370",
   "metadata": {},
   "outputs": [
    {
     "data": {
      "text/plain": [
       "array([[1, 1, 0],\n",
       "       [1, 0, 0],\n",
       "       [1, 0, 0],\n",
       "       [1, 1, 1]])"
      ]
     },
     "execution_count": 15,
     "metadata": {},
     "output_type": "execute_result"
    }
   ],
   "source": [
    "# Puzzle 14: sequence_mask. This is a bit like pad_to but takes in an array of lengths instead\n",
    "# I found the definition of this one a bit confusing - it doesn't seem to match up with Tensorflow's\n",
    "#\n",
    "# Explanation:\n",
    "# X = (np.arange(N) < length[:, None]) creates an ndarray of shape (M, N) \n",
    "# X_{ij} is True iff j < length[i]\n",
    "# So this then acts as the mask that we want, if we do pointwise multiplication.\n",
    "def sequence_mask(values, length):\n",
    "    (M, N) = values.shape; return (np.arange(N) < length[:, None]) * values\n",
    "    \n",
    "sequence_mask(np.ones((4, 3), dtype=int), np.array([2, 1, 1, 4]))"
   ]
  },
  {
   "cell_type": "code",
   "execution_count": 16,
   "id": "c3b0c646",
   "metadata": {},
   "outputs": [
    {
     "data": {
      "text/plain": [
       "array([1, 6, 1, 1, 0, 1, 0])"
      ]
     },
     "execution_count": 16,
     "metadata": {},
     "output_type": "execute_result"
    }
   ],
   "source": [
    "# Puzzle 15: bincount. The interface is a little different from Numpy's - we're given an integer j to populate.\n",
    "# Explanation: The matrix on the LHS is basically an indicator function. If it's X, then \n",
    "# X_{ij} == (v[j] == i)\n",
    "#\n",
    "# Then taking the matrix product with a vector ones sums up over all j, so counts the number of indices equal to i.\n",
    "def bincount(v, j):\n",
    "    return (v == np.arange(j)[:, None]) @ ones(v.shape[0])\n",
    "    \n",
    "bincount(np.array([0,5,3,2,1,1,1,1,1,1]), 7)"
   ]
  },
  {
   "cell_type": "code",
   "execution_count": 17,
   "id": "f2d14ee6",
   "metadata": {},
   "outputs": [
    {
     "data": {
      "text/plain": [
       "array([8, 7, 5, 4])"
      ]
     },
     "execution_count": 17,
     "metadata": {},
     "output_type": "execute_result"
    }
   ],
   "source": [
    "# Puzzle 16: scatter_add\n",
    "# Target: The output should have o[i] equal to the sum of the elements in values, at the indices where the link equals i\n",
    "#\n",
    "# Explanation: Very similar to above. The matrix is an indicator function, but of the link rather than the values.\n",
    "# So X_{ij} == (link[j] == i)\n",
    "# Then we take the matrix product with values gives us \\sum_{j with link[j] == i} values[j], which is the definition of scatter_add\n",
    "def scatter_add(values, link, j):\n",
    "    return (link == np.arange(j)[:, None]) @ values\n",
    "scatter_add(np.array([5, 1, 7, 2, 3, 2, 1, 3]), np.array([0, 0, 1, 0, 2, 2, 3, 3]), 4)"
   ]
  },
  {
   "cell_type": "code",
   "execution_count": 18,
   "id": "c7466127",
   "metadata": {},
   "outputs": [
    {
     "data": {
      "text/plain": [
       "array([ 0,  1,  2,  3,  4,  5,  6,  7,  8,  9, 10, 11, 12, 13, 14, 15, 16,\n",
       "       17, 18, 19, 20, 21, 22, 23, 24, 25, 26, 27, 28, 29])"
      ]
     },
     "execution_count": 18,
     "metadata": {},
     "output_type": "execute_result"
    }
   ],
   "source": [
    "# Puzzle 17: flatten\n",
    "# Explanation: Using numerical indices. We're indexing with a pair of ndarrays, so the output is equal to the shape of those arrays.\n",
    "# It's a bit like if you were to loop over a 2D array in C, but with one loop.\n",
    "def flatten(v): \n",
    "    (M, N) = v.shape; return v[np.arange(M * N) // N, np.arange(M*N) % N]\n",
    "flatten(np.arange(30).reshape(6, 5))"
   ]
  },
  {
   "cell_type": "code",
   "execution_count": 19,
   "id": "ddec972f",
   "metadata": {},
   "outputs": [
    {
     "data": {
      "text/plain": [
       "array([ 3.        ,  3.77777778,  4.55555556,  5.33333333,  6.11111111,\n",
       "        6.88888889,  7.66666667,  8.44444444,  9.22222222, 10.        ])"
      ]
     },
     "execution_count": 19,
     "metadata": {},
     "output_type": "execute_result"
    }
   ],
   "source": [
    "# Puzzle 18: linspace\n",
    "# Explanation: Apply an affine transformation to [0, 1, ..., n-1] \n",
    "def linspace(i, j, n):\n",
    "    return np.arange(n) * (j-i)/(n-1) + i\n",
    "linspace(3, 10, 10)"
   ]
  },
  {
   "cell_type": "code",
   "execution_count": 20,
   "id": "490bd1e3",
   "metadata": {},
   "outputs": [
    {
     "data": {
      "text/plain": [
       "array([0. , 0. , 0. , 0. , 0. , 0.3, 1. , 1. , 1. , 1. ])"
      ]
     },
     "execution_count": 20,
     "metadata": {},
     "output_type": "execute_result"
    }
   ],
   "source": [
    "# Puzzle 19: heaviside\n",
    "# Explanation: This is just a single np.where clause. If a is 0, pick b, otherwise take (a>0).\n",
    "def heaviside(a, b):\n",
    "    return np.where(a==0, b, a > 0)\n",
    "heaviside(np.arange(-5, 5), 0.3)"
   ]
  },
  {
   "cell_type": "code",
   "execution_count": 21,
   "id": "42b1459d",
   "metadata": {},
   "outputs": [
    {
     "data": {
      "text/plain": [
       "array([[0, 1, 2, 3, 4, 5, 6, 7, 8, 9],\n",
       "       [0, 1, 2, 3, 4, 5, 6, 7, 8, 9],\n",
       "       [0, 1, 2, 3, 4, 5, 6, 7, 8, 9],\n",
       "       [0, 1, 2, 3, 4, 5, 6, 7, 8, 9],\n",
       "       [0, 1, 2, 3, 4, 5, 6, 7, 8, 9]])"
      ]
     },
     "execution_count": 21,
     "metadata": {},
     "output_type": "execute_result"
    }
   ],
   "source": [
    "# Puzzle 20: repeat (1d)\n",
    "# Goal: We have input of size (n,), and an integer d. We want to have output of size (d, n).\n",
    "# Explanation: This can just be expressed as an outer product with an array of all 1s.\n",
    "def repeat(a, d):\n",
    "    return outer(ones(d), a)\n",
    "repeat(np.arange(10), 5)"
   ]
  },
  {
   "cell_type": "code",
   "execution_count": 22,
   "id": "91b10fd8",
   "metadata": {},
   "outputs": [
    {
     "data": {
      "text/plain": [
       "array([[-6, -5, -4, -3, -2, -1,  0,  1,  2,  3,  4,  5,  6,  7,  8,  9],\n",
       "       [ 0,  0,  0,  1,  1,  1,  1,  2,  2,  2,  3,  3,  3,  3,  3,  4]])"
      ]
     },
     "execution_count": 22,
     "metadata": {},
     "output_type": "execute_result"
    }
   ],
   "source": [
    "# Puzzle 21: Bucketize\n",
    "# The definition asks us for the largest boundary with val >= boundaries[j]\n",
    "# \n",
    "# Explanation: Matrix on LHS is X_{ij} = (values_i >= boundaries_j)\n",
    "# Then if we sum over the rows of this, we get how many boundaries are at most the value, which is what we want.\n",
    "# And we can sum over the rows by matrix producting with a vector of 1s.\n",
    "def bucketize(values, boundaries): \n",
    "    return (values[:, None] >= boundaries) @ ones(boundaries.shape[0])\n",
    "B = np.array([-3, 1, 4, 9])\n",
    "A = np.arange(-6, 10)\n",
    "vstack(A, bucketize(A, B))"
   ]
  }
 ],
 "metadata": {
  "kernelspec": {
   "display_name": "Python 3 (ipykernel)",
   "language": "python",
   "name": "python3"
  },
  "language_info": {
   "codemirror_mode": {
    "name": "ipython",
    "version": 3
   },
   "file_extension": ".py",
   "mimetype": "text/x-python",
   "name": "python",
   "nbconvert_exporter": "python",
   "pygments_lexer": "ipython3",
   "version": "3.10.6"
  }
 },
 "nbformat": 4,
 "nbformat_minor": 5
}
